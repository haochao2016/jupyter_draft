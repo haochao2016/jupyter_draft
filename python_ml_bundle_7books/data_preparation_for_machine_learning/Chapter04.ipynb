{
 "cells": [
  {
   "cell_type": "code",
   "execution_count": 54,
   "id": "bb2f3f63-ff48-4209-a4a1-daa0ce2abaf8",
   "metadata": {},
   "outputs": [],
   "source": [
    "# test classification dataset\n",
    "from sklearn.datasets import make_classification\n",
    "from sklearn.model_selection import train_test_split\n",
    "from sklearn.preprocessing import MinMaxScaler\n",
    "from sklearn.linear_model import LogisticRegression\n",
    "from sklearn.metrics import accuracy_score\n",
    "\n",
    "from sklearn.model_selection import cross_val_score\n",
    "from sklearn.model_selection import RepeatedStratifiedKFold\n",
    "from sklearn.pipeline import Pipeline\n",
    "import numpy as np"
   ]
  },
  {
   "cell_type": "code",
   "execution_count": 38,
   "id": "80ef2a9c-e566-4a6f-918e-da7254ee5b83",
   "metadata": {},
   "outputs": [
    {
     "name": "stdout",
     "output_type": "stream",
     "text": [
      "(1000, 20) (1000,)\n"
     ]
    }
   ],
   "source": [
    "\"\"\" ****** with the data leakage  ******  \"\"\"\n",
    "# define dataset\n",
    "X, y = make_classification(n_samples=1000, n_features=20, n_informative=15, n_redundant=5, random_state=7)\n",
    "# summarize the dataset\n",
    "print(X.shape, y.shape)"
   ]
  },
  {
   "cell_type": "code",
   "execution_count": 39,
   "id": "39c0e622-14ca-4f71-b67a-25717dac356b",
   "metadata": {},
   "outputs": [],
   "source": [
    "import pandas as pd\n",
    "scaler = MinMaxScaler()\n",
    "X_ = scaler.fit_transform(X)\n",
    "# split into train and test sets\n",
    "X_train, X_test, y_train, y_test = train_test_split(X_, y, test_size=0.33, random_state=1)"
   ]
  },
  {
   "cell_type": "code",
   "execution_count": 40,
   "id": "653ef01f-9d62-433a-b0a2-9a5e0186f90f",
   "metadata": {},
   "outputs": [
    {
     "name": "stdout",
     "output_type": "stream",
     "text": [
      "accuracy with data leakage 0.8484848484848485\n",
      "accuracy with data leakage 0.8484848484848485\n",
      "accuracy with data leakage 0.8484848484848485\n",
      "Accuracy: 84.848\n"
     ]
    }
   ],
   "source": [
    "lr = LogisticRegression()\n",
    "lr.fit(X_train, y_train)\n",
    "yhat = lr.predict(X_test)\n",
    "accuracy = accuracy_score(y_test, yhat)\n",
    "print(\"accuracy with data leakage %s\" % accuracy)\n",
    "print(f\"accuracy with data leakage {accuracy}\")\n",
    "print(\"accuracy with data leakage {}\".format(accuracy))\n",
    "\n",
    "print('Accuracy: %.3f' % (accuracy*100))"
   ]
  },
  {
   "cell_type": "code",
   "execution_count": 41,
   "id": "664e0a27-1913-472d-9dd9-1c8117adc178",
   "metadata": {},
   "outputs": [],
   "source": [
    "\"\"\" ****** without the data leakage  ******  \"\"\"\n",
    "# split into train and test sets\n",
    "X_train, X_test, y_train, y_test = train_test_split(X, y, test_size=0.33, random_state=1)\n",
    "scaler.fit(X_train)\n",
    "X_train = scaler.transform(X_train)\n",
    "X_test = scaler.transform(X_test)"
   ]
  },
  {
   "cell_type": "code",
   "execution_count": 42,
   "id": "a39cf8ae-ccb3-49e8-933b-41413a31f822",
   "metadata": {},
   "outputs": [
    {
     "name": "stdout",
     "output_type": "stream",
     "text": [
      "accuracy without data leakage 0.8545454545454545\n",
      "accuracy without data leakage 0.8545454545454545\n",
      "accuracy without data leakage 0.8545454545454545\n"
     ]
    }
   ],
   "source": [
    "lr.fit(X_train, y_train)\n",
    "yhat = lr.predict(X_test)\n",
    "accuracy = accuracy_score(y_test, yhat)\n",
    "print(\"accuracy without data leakage %s\" % accuracy)\n",
    "print(f\"accuracy without data leakage {accuracy}\")\n",
    "print(\"accuracy without data leakage {}\".format(accuracy))\n",
    "print('Accuracy: %.3f' % (accuracy*100))"
   ]
  },
  {
   "cell_type": "code",
   "execution_count": 50,
   "id": "a307edb8-8635-49d3-a4b9-7cf8e3551f3b",
   "metadata": {},
   "outputs": [
    {
     "name": "stdout",
     "output_type": "stream",
     "text": [
      "Accuracy: 85.300 (3.607)\n"
     ]
    }
   ],
   "source": [
    "\"\"\" ###############   CV eval with leakage   ############### \"\"\"\n",
    "\n",
    "# define dataset\n",
    "make_classification(n_samples=1000, n_features=20, n_informative=15, n_redundant=5, random_state=7)\n",
    "\n",
    "# standardize the dataset\n",
    "scaler = MinMaxScaler()\n",
    "X_ = scaler.fit_transform(X)\n",
    "\n",
    "# define the model\n",
    "lr = LogisticRegression()\n",
    "# define the evaluation procedure\n",
    "cv = RepeatedStratifiedKFold(n_splits=10, n_repeats=3, random_state=1)\n",
    "# evaluate the model using cross-validation\n",
    "scores = cross_val_score(lr, X_, y, scoring='accuracy', cv=cv, n_jobs=-1)\n",
    "# report performance\n",
    "print('Accuracy: %.3f (%.3f)' % (np.mean(scores)*100, np.std(scores)*100))"
   ]
  },
  {
   "cell_type": "code",
   "execution_count": 56,
   "id": "d0e57af3-7dce-4603-b231-86afdbb2a581",
   "metadata": {},
   "outputs": [
    {
     "name": "stdout",
     "output_type": "stream",
     "text": [
      "Accuracy: 85.433 (3.471)\n"
     ]
    }
   ],
   "source": [
    "\"\"\" ###############   CV eval without leakage   ############### \"\"\"\n",
    "\n",
    "steps = list()\n",
    "steps.append(('scaler', MinMaxScaler()))\n",
    "steps.append(('model', LogisticRegression()))\n",
    "pipeline = Pipeline(steps=steps)\n",
    "# define the evaluation procedure\n",
    "cv = RepeatedStratifiedKFold(n_splits=10, n_repeats=3, random_state=1)\n",
    "# evaluate the model using cross-validation\n",
    "scores = cross_val_score(pipeline, X, y, scoring='accuracy', cv=cv, n_jobs=-1)\n",
    "\n",
    "# report performance\n",
    "print('Accuracy: %.3f (%.3f)' % (np.mean(scores)*100, np.std(scores)*100))"
   ]
  },
  {
   "cell_type": "code",
   "execution_count": null,
   "id": "8702ec09-1a00-43d1-9486-66acf72330d6",
   "metadata": {},
   "outputs": [],
   "source": []
  }
 ],
 "metadata": {
  "kernelspec": {
   "display_name": "Python 3 (ipykernel)",
   "language": "python",
   "name": "python3"
  },
  "language_info": {
   "codemirror_mode": {
    "name": "ipython",
    "version": 3
   },
   "file_extension": ".py",
   "mimetype": "text/x-python",
   "name": "python",
   "nbconvert_exporter": "python",
   "pygments_lexer": "ipython3",
   "version": "3.9.7"
  }
 },
 "nbformat": 4,
 "nbformat_minor": 5
}
