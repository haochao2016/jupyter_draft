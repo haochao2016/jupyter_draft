{
 "cells": [
  {
   "cell_type": "code",
   "execution_count": 7,
   "id": "bb2f3f63-ff48-4209-a4a1-daa0ce2abaf8",
   "metadata": {},
   "outputs": [],
   "source": [
    "# test classification dataset\n",
    "from sklearn.datasets import make_classification\n",
    "from sklearn.model_selection import train_test_split\n",
    "from sklearn.preprocessing import MinMaxScaler\n",
    "from sklearn.linear_model import LogisticRegression\n",
    "from sklearn.metrics import accuracy_score"
   ]
  },
  {
   "cell_type": "code",
   "execution_count": 4,
   "id": "80ef2a9c-e566-4a6f-918e-da7254ee5b83",
   "metadata": {},
   "outputs": [],
   "source": [
    "\"\"\" with the data leakage \"\"\"\n",
    "# define dataset\n",
    "X, y = make_classification(n_samples=1000, n_features=20, n_informative=15, n_redundant=5, random_state=7)\n",
    "# summarize the dataset\n",
    "print(X.shape, y.shape)"
   ]
  },
  {
   "cell_type": "code",
   "execution_count": 11,
   "id": "39c0e622-14ca-4f71-b67a-25717dac356b",
   "metadata": {},
   "outputs": [],
   "source": [
    "import pandas as pd\n",
    "scaler = MinMaxScaler()\n",
    "X = scaler.fit_transform(X)\n",
    "# split into train and test sets\n",
    "X_train, X_test, y_train, y_test = train_test_split(X, y, test_size=0.33, random_state=1)"
   ]
  },
  {
   "cell_type": "code",
   "execution_count": 23,
   "id": "653ef01f-9d62-433a-b0a2-9a5e0186f90f",
   "metadata": {},
   "outputs": [
    {
     "name": "stdout",
     "output_type": "stream",
     "text": [
      "accuracy with data leakage 0.8484848484848485\n",
      "accuracy with data leakage 0.8484848484848485\n",
      "accuracy with data leakage 0.8484848484848485\n",
      "Accuracy: 84.848\n"
     ]
    }
   ],
   "source": [
    "lr = LogisticRegression()\n",
    "lr.fit(X_train, y_train)\n",
    "yhat = lr.predict(X_test)\n",
    "accuracy = accuracy_score(y_test, yhat)\n",
    "print(\"accuracy with data leakage %s\" % accuracy)\n",
    "print(f\"accuracy with data leakage {accuracy}\")\n",
    "print(\"accuracy with data leakage {}\".format(accuracy))\n",
    "\n",
    "print('Accuracy: %.3f' % (accuracy*100))"
   ]
  },
  {
   "cell_type": "code",
   "execution_count": null,
   "id": "ff517192-c617-4ef3-8247-470a68909e52",
   "metadata": {},
   "outputs": [],
   "source": []
  }
 ],
 "metadata": {
  "kernelspec": {
   "display_name": "Python 3 (ipykernel)",
   "language": "python",
   "name": "python3"
  },
  "language_info": {
   "codemirror_mode": {
    "name": "ipython",
    "version": 3
   },
   "file_extension": ".py",
   "mimetype": "text/x-python",
   "name": "python",
   "nbconvert_exporter": "python",
   "pygments_lexer": "ipython3",
   "version": "3.9.7"
  }
 },
 "nbformat": 4,
 "nbformat_minor": 5
}
