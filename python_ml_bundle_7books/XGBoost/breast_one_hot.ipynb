{
 "cells": [
  {
   "cell_type": "code",
   "execution_count": 1,
   "id": "d4721606-9d49-468d-93ed-6c331c3b41dc",
   "metadata": {},
   "outputs": [],
   "source": [
    "from sklearn import datasets"
   ]
  },
  {
   "cell_type": "code",
   "execution_count": 13,
   "id": "5f54a8b4-2036-42d1-af7f-42704c7e5454",
   "metadata": {},
   "outputs": [
    {
     "data": {
      "text/plain": [
       "array([[1.799e+01, 1.038e+01, 1.228e+02, ..., 2.654e-01, 4.601e-01,\n",
       "        1.189e-01],\n",
       "       [2.057e+01, 1.777e+01, 1.329e+02, ..., 1.860e-01, 2.750e-01,\n",
       "        8.902e-02],\n",
       "       [1.969e+01, 2.125e+01, 1.300e+02, ..., 2.430e-01, 3.613e-01,\n",
       "        8.758e-02],\n",
       "       ...,\n",
       "       [1.660e+01, 2.808e+01, 1.083e+02, ..., 1.418e-01, 2.218e-01,\n",
       "        7.820e-02],\n",
       "       [2.060e+01, 2.933e+01, 1.401e+02, ..., 2.650e-01, 4.087e-01,\n",
       "        1.240e-01],\n",
       "       [7.760e+00, 2.454e+01, 4.792e+01, ..., 0.000e+00, 2.871e-01,\n",
       "        7.039e-02]])"
      ]
     },
     "execution_count": 13,
     "metadata": {},
     "output_type": "execute_result"
    }
   ],
   "source": [
    "X_breast, y_breast = datasets.load_breast_cancer(return_X_y=True)\n",
    "X_breast"
   ]
  },
  {
   "cell_type": "code",
   "execution_count": 15,
   "id": "e27fb7d6-5b07-4ace-9f96-3a7fb053ac6e",
   "metadata": {},
   "outputs": [],
   "source": [
    "breast_cancer = datasets.load_breast_cancer()\n",
    "breast_cancer.data[0]"
   ]
  },
  {
   "cell_type": "code",
   "execution_count": 20,
   "id": "7eae931d-f184-41e1-94e8-90e553784f41",
   "metadata": {},
   "outputs": [],
   "source": [
    "##############################\n",
    "from numpy import column_stack\n",
    "import pandas as pd\n",
    "import xgboost as xgb\n",
    "from sklearn.model_selection import train_test_split\n",
    "from sklearn.metrics import accuracy_score\n",
    "from sklearn.preprocessing import LabelEncoder\n",
    "from sklearn.preprocessing import OneHotEncoder"
   ]
  },
  {
   "cell_type": "code",
   "execution_count": 30,
   "id": "44c12d30-be18-49b4-ab2e-6aea9512ddc6",
   "metadata": {},
   "outputs": [],
   "source": [
    "data = pd.read_csv(\"D:\\\\docu\\\\Book\\\\ML\\\\python_ml_bundle_7books\\\\xgboost_with_python\\\\code\\\\chapter_05\\\\datasets-uci-breast-cancer.csv\"\n",
    "                   , header=None\n",
    "                  )\n",
    "datasets = data.values\n",
    "X = datasets[:, :-1]\n",
    "Y = datasets[:, -1]\n",
    "X = X.astype(str)\n",
    "# X"
   ]
  },
  {
   "cell_type": "code",
   "execution_count": 43,
   "id": "f2e8e2a8-bd0a-4530-8faa-33120830e880",
   "metadata": {
    "tags": []
   },
   "outputs": [],
   "source": [
    "columns = []\n",
    "for i in range(0, X.shape[1]):\n",
    "    label_encoder = LabelEncoder()\n",
    "    feature = label_encoder.fit_transform(X[:, i])\n",
    "    feature = feature.reshape(-1, 1)\n",
    "    onehot_encoder = OneHotEncoder(sparse=False, categories='auto')\n",
    "    feature = onehot_encoder.fit_transform(feature)\n",
    "    # print(f\"feature:  {feature.shape[1]}\")\n",
    "    columns.append(feature)\n",
    "# collapse columns into array\n",
    "encoded_x = column_stack(columns)"
   ]
  },
  {
   "cell_type": "code",
   "execution_count": 44,
   "id": "10ed1a06-5621-4909-b846-43bd3f260f7a",
   "metadata": {
    "tags": []
   },
   "outputs": [],
   "source": [
    "label_encoder = LabelEncoder()\n",
    "Y = label_encoder.fit_transform(Y)\n",
    "# split the data into test and train sets\n",
    "seed = 7\n",
    "test_size = 0.33 \n",
    "X_train, X_test, y_train, y_test= train_test_split(encoded_x, Y, random_state=seed, test_size = test_size)"
   ]
  },
  {
   "cell_type": "code",
   "execution_count": 50,
   "id": "2f79ef90-c745-4c8a-b28d-31bec4b10514",
   "metadata": {},
   "outputs": [
    {
     "name": "stdout",
     "output_type": "stream",
     "text": [
      "[16:05:06] WARNING: ..\\src\\learner.cc:1115: Starting in XGBoost 1.3.0, the default evaluation metric used with the objective 'binary:logistic' was changed from 'error' to 'logloss'. Explicitly set eval_metric if you'd like to restore the old behavior.\n",
      "XGBClassifier(base_score=0.5, booster='gbtree', colsample_bylevel=1,\n",
      "              colsample_bynode=1, colsample_bytree=1, enable_categorical=False,\n",
      "              gamma=0, gpu_id=-1, importance_type=None,\n",
      "              interaction_constraints='', learning_rate=0.300000012,\n",
      "              max_delta_step=0, max_depth=6, min_child_weight=1, missing=nan,\n",
      "              monotone_constraints='()', n_estimators=100, n_jobs=12,\n",
      "              num_parallel_tree=1, predictor='auto', random_state=0,\n",
      "              reg_alpha=0, reg_lambda=1, scale_pos_weight=1, subsample=1,\n",
      "              tree_method='exact', use_label_encoder=False,\n",
      "              validate_parameters=1, verbosity=None)\n",
      "Accuracy: 68.42%\n"
     ]
    }
   ],
   "source": [
    "model = xgb.XGBClassifier(use_label_encoder=False)\n",
    "model.fit(X_train, y_train)\n",
    "print(model)\n",
    "prediction = model.predict(X_test)\n",
    "score = accuracy_score(y_test, prediction)\n",
    "print(\"Accuracy: %.2f%%\" % (score * 100.0))\n"
   ]
  }
 ],
 "metadata": {
  "kernelspec": {
   "display_name": "Python 3 (ipykernel)",
   "language": "python",
   "name": "python3"
  },
  "language_info": {
   "codemirror_mode": {
    "name": "ipython",
    "version": 3
   },
   "file_extension": ".py",
   "mimetype": "text/x-python",
   "name": "python",
   "nbconvert_exporter": "python",
   "pygments_lexer": "ipython3",
   "version": "3.9.7"
  }
 },
 "nbformat": 4,
 "nbformat_minor": 5
}
