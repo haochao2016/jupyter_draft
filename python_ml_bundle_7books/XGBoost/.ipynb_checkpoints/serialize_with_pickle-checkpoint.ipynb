{
 "cells": [
  {
   "cell_type": "code",
   "execution_count": 1,
   "id": "8bef3651-488c-478f-a160-56940f572ea0",
   "metadata": {},
   "outputs": [],
   "source": [
    "# Train XGBoost model, save to file using pickle, load and make predictions\n",
    "\n",
    "import numpy as np\n",
    "import xgboost as xgb\n",
    "import pickle\n",
    "from sklearn.model_selection import train_test_split\n",
    "from sklearn.metrics import accuracy_score"
   ]
  },
  {
   "cell_type": "code",
   "execution_count": 3,
   "id": "a9a04b42-3882-436e-871f-6a06ec73dcdd",
   "metadata": {},
   "outputs": [],
   "source": [
    "dataset = np.loadtxt('D:\\\\docu\\\\Book\\\\ML\\\\python_ml_bundle_7books\\\\xgboost_with_python\\\\code\\\\chapter_08\\\\pima-indians-diabetes.csv', delimiter=',')\n",
    "\n",
    "X = dataset[:, 0:-1]\n",
    "y = dataset[:, -1]\n",
    "seed = 7\n",
    "test_size = 0.33\n",
    "X_train, X_test, y_train, y_test = train_test_split(X, y, test_size = test_size, random_state=seed)"
   ]
  },
  {
   "cell_type": "code",
   "execution_count": 11,
   "id": "e5d33b2b-baca-470f-8d07-311afd689ea7",
   "metadata": {},
   "outputs": [
    {
     "name": "stdout",
     "output_type": "stream",
     "text": [
      "[15:23:06] WARNING: ..\\src\\learner.cc:1115: Starting in XGBoost 1.3.0, the default evaluation metric used with the objective 'binary:logistic' was changed from 'error' to 'logloss'. Explicitly set eval_metric if you'd like to restore the old behavior.\n"
     ]
    }
   ],
   "source": [
    "model = xgb.XGBClassifier(use_label_encoder=False)\n",
    "model.fit(X_train, y_train)\n",
    "    "
   ]
  },
  {
   "cell_type": "code",
   "execution_count": 15,
   "id": "4c9ed88a-9ad1-4c5c-8d5c-1de837b8371c",
   "metadata": {},
   "outputs": [],
   "source": [
    "# pickle.dump(model, open('D:\\\\docu\\\\Book\\\\ML\\\\python_ml_bundle_7books\\\\xgboost_with_python\\\\code\\\\chapter_08\\\\pima.pickle.dat', 'wb'))\n",
    "# load_model = pickle.load(open('D:\\\\docu\\\\Book\\\\ML\\\\python_ml_bundle_7books\\\\xgboost_with_python\\\\code\\\\chapter_08\\\\pima.pickle.dat', 'rb'))\n",
    "\n",
    "import joblib as jl\n",
    "jl.dump(model, 'D:\\\\docu\\\\Book\\\\ML\\\\python_ml_bundle_7books\\\\xgboost_with_python\\\\code\\\\chapter_08\\\\pima.joblib.dat')\n",
    "load_model = jl.load('D:\\\\docu\\\\Book\\\\ML\\\\python_ml_bundle_7books\\\\xgboost_with_python\\\\code\\\\chapter_08\\\\pima.joblib.dat')"
   ]
  },
  {
   "cell_type": "code",
   "execution_count": 17,
   "id": "4fb52be7-b443-4c41-bb8f-5054d949666f",
   "metadata": {},
   "outputs": [
    {
     "name": "stdout",
     "output_type": "stream",
     "text": [
      "Accuracy: 74.02%\n"
     ]
    }
   ],
   "source": [
    "predictions = load_model.predict(X_test)\n",
    "accuracy = accuracy_score(y_test, predictions)\n",
    "print(\"Accuracy: %.2f%%\" % (accuracy * 100.0))"
   ]
  },
  {
   "cell_type": "code",
   "execution_count": null,
   "id": "16e2502a-9b6e-4eda-ba35-edd879889253",
   "metadata": {},
   "outputs": [],
   "source": []
  }
 ],
 "metadata": {
  "kernelspec": {
   "display_name": "Python 3 (ipykernel)",
   "language": "python",
   "name": "python3"
  },
  "language_info": {
   "codemirror_mode": {
    "name": "ipython",
    "version": 3
   },
   "file_extension": ".py",
   "mimetype": "text/x-python",
   "name": "python",
   "nbconvert_exporter": "python",
   "pygments_lexer": "ipython3",
   "version": "3.9.7"
  }
 },
 "nbformat": 4,
 "nbformat_minor": 5
}
