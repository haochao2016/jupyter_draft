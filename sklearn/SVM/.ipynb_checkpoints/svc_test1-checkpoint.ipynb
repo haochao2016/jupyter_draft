{
 "cells": [
  {
   "cell_type": "code",
   "execution_count": 61,
   "id": "d3a44cc8-94a4-4dea-89b7-c46bd8f5041f",
   "metadata": {},
   "outputs": [],
   "source": [
    "from sklearn import svm\n",
    "import numpy as np\n",
    "X = [[0, 0], [1, 1]]\n",
    "y = [0, 1]\n",
    "clf = svm.SVC()\n",
    "clf.fit(X, y)\n",
    "prediction = clf.predict([[2., 2.]])"
   ]
  },
  {
   "cell_type": "code",
   "execution_count": 39,
   "id": "0b90a7c4-c0c5-4a8f-a775-2ab9c76784d9",
   "metadata": {},
   "outputs": [
    {
     "data": {
      "text/plain": [
       "[1]"
      ]
     },
     "execution_count": 39,
     "metadata": {},
     "output_type": "execute_result"
    }
   ],
   "source": [
    "[*prediction]"
   ]
  },
  {
   "cell_type": "code",
   "execution_count": 40,
   "id": "3a7478e9-6203-4ead-9b4d-c5b67f1dc555",
   "metadata": {},
   "outputs": [
    {
     "data": {
      "text/plain": [
       "array([[0., 0.],\n",
       "       [1., 1.]])"
      ]
     },
     "execution_count": 40,
     "metadata": {},
     "output_type": "execute_result"
    }
   ],
   "source": [
    "clf.support_vectors_"
   ]
  },
  {
   "cell_type": "code",
   "execution_count": 41,
   "id": "e59f3a54-11e6-4bbf-a042-d341a962ac7f",
   "metadata": {},
   "outputs": [
    {
     "data": {
      "text/plain": [
       "array([1, 1])"
      ]
     },
     "execution_count": 41,
     "metadata": {},
     "output_type": "execute_result"
    }
   ],
   "source": [
    "clf.n_support_"
   ]
  },
  {
   "cell_type": "code",
   "execution_count": 42,
   "id": "1a1d4cdb-5171-4abf-b9b2-bc662bea0ecd",
   "metadata": {},
   "outputs": [
    {
     "data": {
      "text/plain": [
       "array([0, 1])"
      ]
     },
     "execution_count": 42,
     "metadata": {},
     "output_type": "execute_result"
    }
   ],
   "source": [
    "clf.support_"
   ]
  },
  {
   "cell_type": "code",
   "execution_count": 73,
   "id": "6768e998-d46e-4350-aecd-87c1e20177a9",
   "metadata": {},
   "outputs": [
    {
     "data": {
      "text/plain": [
       "array([[ 1., -1., -1., -1.],\n",
       "       [ 1.,  1., -1., -1.],\n",
       "       [ 1.,  1.,  1., -1.]])"
      ]
     },
     "execution_count": 73,
     "metadata": {},
     "output_type": "execute_result"
    }
   ],
   "source": [
    "###  Multi-class classification   on  ovo style\n",
    "\n",
    "X1 = [[0], [1], [2], [3]]\n",
    "Y1 = [0, 1, 2, 3]\n",
    "                    \n",
    "clf1 = svm.SVC(decision_function_shape='ovo')\n",
    "clf1.fit(X1, Y1)\n",
    "dec = clf1.decision_function([[1], [2]])\n",
    "clf1.dual_coef_"
   ]
  },
  {
   "cell_type": "code",
   "execution_count": 51,
   "id": "2567206f-aebc-4223-85a1-5ff52c9a0961",
   "metadata": {},
   "outputs": [],
   "source": []
  },
  {
   "cell_type": "code",
   "execution_count": 52,
   "id": "a9bf86cb-2667-4220-80ce-dd2f3f64f754",
   "metadata": {},
   "outputs": [
    {
     "data": {
      "text/plain": [
       "6"
      ]
     },
     "execution_count": 52,
     "metadata": {},
     "output_type": "execute_result"
    }
   ],
   "source": [
    "dec.shape[1]"
   ]
  },
  {
   "cell_type": "code",
   "execution_count": 70,
   "id": "fae84368-3e94-4d6e-b010-b7013b4ea5ec",
   "metadata": {},
   "outputs": [
    {
     "data": {
      "text/plain": [
       "4"
      ]
     },
     "execution_count": 70,
     "metadata": {},
     "output_type": "execute_result"
    }
   ],
   "source": [
    "clf1.decision_function_shape='ovr'\n",
    "dec1 = clf1.decision_function([[1], [2]])\n",
    "dec1.shape[1]"
   ]
  },
  {
   "cell_type": "code",
   "execution_count": 69,
   "id": "0bd38dc3-f335-4098-9f30-9a755742ef71",
   "metadata": {},
   "outputs": [
    {
     "data": {
      "text/plain": [
       "array([[-0.90908001],\n",
       "       [-0.20513331],\n",
       "       [ 0.10257784],\n",
       "       [ 0.41022991]])"
      ]
     },
     "execution_count": 69,
     "metadata": {},
     "output_type": "execute_result"
    }
   ],
   "source": [
    "###  LinearSVC \n",
    "lin_clf = svm.LinearSVC()\n",
    "lin_clf.fit(X1, Y1)\n",
    "# np.array([1]).reshape(-1, 1) -->  [[1]]\n",
    "lin_dec = lin_clf.decision_function([[1]])\n",
    "lin_clf.coef_"
   ]
  },
  {
   "cell_type": "code",
   "execution_count": 1,
   "id": "fa7ee515-fd2d-4f8a-984d-04c3d27fad5d",
   "metadata": {},
   "outputs": [
    {
     "data": {
      "text/plain": [
       "'C:\\\\Program Files\\\\CChat\\\\app-2.6.2-Release9744139\\\\Hollis\\\\sklearn'"
      ]
     },
     "execution_count": 1,
     "metadata": {},
     "output_type": "execute_result"
    }
   ],
   "source": [
    "### Searching the current dir\n",
    "import os\n",
    "cwd  = os.getcwd()\n",
    "cwd"
   ]
  },
  {
   "cell_type": "code",
   "execution_count": null,
   "id": "6c32bc0d-92cf-49d4-aed1-e2e6a123012d",
   "metadata": {},
   "outputs": [],
   "source": []
  }
 ],
 "metadata": {
  "kernelspec": {
   "display_name": "Python 3 (ipykernel)",
   "language": "python",
   "name": "python3"
  },
  "language_info": {
   "codemirror_mode": {
    "name": "ipython",
    "version": 3
   },
   "file_extension": ".py",
   "mimetype": "text/x-python",
   "name": "python",
   "nbconvert_exporter": "python",
   "pygments_lexer": "ipython3",
   "version": "3.9.7"
  }
 },
 "nbformat": 4,
 "nbformat_minor": 5
}
