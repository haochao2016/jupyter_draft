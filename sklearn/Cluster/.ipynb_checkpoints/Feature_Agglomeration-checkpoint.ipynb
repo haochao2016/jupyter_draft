{
 "cells": [
  {
   "cell_type": "code",
   "execution_count": 18,
   "id": "27c8d3c2-3085-4d63-9896-814b80126f2c",
   "metadata": {},
   "outputs": [],
   "source": [
    "from sklearn import datasets\n",
    "import numpy as np\n",
    "from sklearn.feature_extraction import grid_to_graph\n",
    "from sklearn import cluster"
   ]
  },
  {
   "cell_type": "code",
   "execution_count": 21,
   "id": "695b1860-eafe-4376-9dd4-847ef8e547a4",
   "metadata": {},
   "outputs": [],
   "source": [
    "digits = datasets.load_digits()\n",
    "images = digits.images\n",
    "images.shape\n",
    "X = np.reshape(images, (len(images), -1))\n",
    "X.shape\n",
    "connectivity = grid_to_graph(*images[0].shape)\n",
    "agglo = cluster.FeatureAgglomeration(connectivity=connectivity, n_clusters=32)"
   ]
  },
  {
   "cell_type": "code",
   "execution_count": 24,
   "id": "83589e3e-bd25-42b8-9749-cb81b76bf967",
   "metadata": {},
   "outputs": [],
   "source": [
    "agglo.fit(X)\n",
    "X_reduced = agglo.transform(X)\n",
    "X_reduced.shape"
   ]
  },
  {
   "cell_type": "code",
   "execution_count": 32,
   "id": "4b224fb0-090c-463b-9cbc-9d19765bdf45",
   "metadata": {},
   "outputs": [
    {
     "data": {
      "text/plain": [
       "array([[[ 0.18181818,  0.18181818,  5.        , ...,  1.        ,\n",
       "          5.8       ,  0.        ],\n",
       "        [ 0.18181818,  1.5       , 13.        , ..., 13.        ,\n",
       "          5.8       ,  0.        ],\n",
       "        [ 0.18181818,  1.5       , 13.5       , ..., 13.        ,\n",
       "          5.8       ,  0.        ],\n",
       "        ...,\n",
       "        [ 0.18181818,  4.33333333,  9.5       , ..., 12.        ,\n",
       "          2.33333333,  0.        ],\n",
       "        [ 0.18181818,  0.18181818, 14.        , ..., 12.        ,\n",
       "          2.33333333,  0.        ],\n",
       "        [ 0.18181818,  0.18181818,  6.        , ...,  0.        ,\n",
       "          2.33333333,  0.        ]],\n",
       "\n",
       "       [[ 0.        ,  0.        ,  0.        , ...,  5.        ,\n",
       "          0.        ,  0.        ],\n",
       "        [ 0.        ,  0.        ,  0.        , ...,  7.5       ,\n",
       "          0.        ,  0.        ],\n",
       "        [ 0.        ,  0.        ,  9.        , ...,  7.5       ,\n",
       "          0.        ,  0.        ],\n",
       "        ...,\n",
       "        [ 0.        ,  2.33333333,  1.        , ...,  6.        ,\n",
       "          0.        ,  0.        ],\n",
       "        [ 0.        ,  0.        ,  1.        , ...,  6.        ,\n",
       "          0.        ,  0.        ],\n",
       "        [ 0.        ,  0.        ,  0.        , ..., 10.        ,\n",
       "          0.        ,  0.        ]],\n",
       "\n",
       "       [[ 0.27272727,  0.27272727,  0.        , ..., 12.        ,\n",
       "          0.        ,  0.        ],\n",
       "        [ 0.27272727,  0.        ,  3.        , ..., 15.        ,\n",
       "          0.        ,  0.        ],\n",
       "        [ 0.27272727,  0.        ,  4.5       , ..., 15.        ,\n",
       "          0.        ,  0.        ],\n",
       "        ...,\n",
       "        [ 0.27272727,  3.33333333, 12.        , ...,  5.5       ,\n",
       "          4.66666667,  0.        ],\n",
       "        [ 0.27272727,  0.27272727, 13.        , ...,  5.5       ,\n",
       "          4.66666667,  0.        ],\n",
       "        [ 0.27272727,  0.27272727,  0.        , ..., 16.        ,\n",
       "          4.66666667,  0.        ]],\n",
       "\n",
       "       ...,\n",
       "\n",
       "       [[ 0.        ,  0.        ,  1.        , ...,  1.        ,\n",
       "          1.2       ,  0.        ],\n",
       "        [ 0.        ,  0.        , 13.        , ...,  9.        ,\n",
       "          1.2       ,  0.        ],\n",
       "        [ 0.        ,  0.        , 12.        , ...,  9.        ,\n",
       "          1.2       ,  0.        ],\n",
       "        ...,\n",
       "        [ 0.        ,  0.        , 12.5       , ..., 15.5       ,\n",
       "          0.        ,  0.        ],\n",
       "        [ 0.        ,  0.        , 15.        , ..., 15.5       ,\n",
       "          0.        ,  0.        ],\n",
       "        [ 0.        ,  0.        ,  2.        , ...,  6.        ,\n",
       "          0.        ,  0.        ]],\n",
       "\n",
       "       [[ 0.        ,  0.        ,  2.        , ...,  0.        ,\n",
       "          3.2       ,  0.        ],\n",
       "        [ 0.        ,  2.        , 14.        , ..., 15.5       ,\n",
       "          3.2       ,  0.        ],\n",
       "        [ 0.        ,  2.        , 16.        , ..., 15.5       ,\n",
       "          3.2       ,  0.        ],\n",
       "        ...,\n",
       "        [ 0.        ,  1.66666667,  2.5       , ..., 16.        ,\n",
       "          1.33333333,  0.        ],\n",
       "        [ 0.        ,  0.        ,  4.        , ..., 16.        ,\n",
       "          1.33333333,  0.        ],\n",
       "        [ 0.        ,  0.        ,  5.        , ..., 12.        ,\n",
       "          1.33333333,  0.        ]],\n",
       "\n",
       "       [[ 0.81818182,  0.81818182, 10.        , ...,  1.        ,\n",
       "          0.        ,  0.        ],\n",
       "        [ 0.81818182,  1.        , 16.        , ...,  8.        ,\n",
       "          0.        ,  0.        ],\n",
       "        [ 0.81818182,  1.        , 10.        , ...,  8.        ,\n",
       "          0.        ,  0.        ],\n",
       "        ...,\n",
       "        [ 0.81818182,  1.33333333, 14.        , ..., 16.        ,\n",
       "          5.        ,  0.        ],\n",
       "        [ 0.81818182,  0.81818182, 16.        , ..., 16.        ,\n",
       "          5.        ,  0.        ],\n",
       "        [ 0.81818182,  0.81818182,  8.        , ..., 12.        ,\n",
       "          5.        ,  0.        ]]])"
      ]
     },
     "execution_count": 32,
     "metadata": {},
     "output_type": "execute_result"
    }
   ],
   "source": [
    "X_approx = agglo.inverse_transform(X_reduced)\n",
    "images_approx = np.reshape(X_approx, images.shape)\n",
    "images_approx"
   ]
  },
  {
   "cell_type": "code",
   "execution_count": 33,
   "id": "4fb56782-55fb-4a30-af2b-331188ec1209",
   "metadata": {},
   "outputs": [
    {
     "data": {
      "text/plain": [
       "array([[ 0.,  0.,  5., ...,  0.,  0.,  0.],\n",
       "       [ 0.,  0.,  0., ..., 10.,  0.,  0.],\n",
       "       [ 0.,  0.,  0., ..., 16.,  9.,  0.],\n",
       "       ...,\n",
       "       [ 0.,  0.,  1., ...,  6.,  0.,  0.],\n",
       "       [ 0.,  0.,  2., ..., 12.,  0.,  0.],\n",
       "       [ 0.,  0., 10., ..., 12.,  1.,  0.]])"
      ]
     },
     "execution_count": 33,
     "metadata": {},
     "output_type": "execute_result"
    }
   ],
   "source": [
    "X"
   ]
  }
 ],
 "metadata": {
  "kernelspec": {
   "display_name": "Python 3 (ipykernel)",
   "language": "python",
   "name": "python3"
  },
  "language_info": {
   "codemirror_mode": {
    "name": "ipython",
    "version": 3
   },
   "file_extension": ".py",
   "mimetype": "text/x-python",
   "name": "python",
   "nbconvert_exporter": "python",
   "pygments_lexer": "ipython3",
   "version": "3.9.7"
  }
 },
 "nbformat": 4,
 "nbformat_minor": 5
}
