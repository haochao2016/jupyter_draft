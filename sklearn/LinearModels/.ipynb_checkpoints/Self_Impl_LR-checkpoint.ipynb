{
 "cells": [
  {
   "cell_type": "code",
   "execution_count": 43,
   "id": "87455e90-f5c3-4739-b770-6945bfc7ed81",
   "metadata": {
    "tags": []
   },
   "outputs": [],
   "source": [
    "import numpy as np\n",
    "\n",
    "class LogisticRegression(object):\n",
    "\n",
    "    def __init__(self, learning_rate=0.1, max_iter=100, seed=None):\n",
    "        self.seed = seed\n",
    "        self.lr = learning_rate\n",
    "        self.max_iter = max_iter\n",
    "\n",
    "    def fit(self, x, y):\n",
    "        np.random.seed(self.seed)\n",
    "        self.w = np.random.normal(loc=0.0, scale=1.0, size=x.shape[1])\n",
    "        self.b = np.random.normal(loc=0.0, scale=1.0)\n",
    "        self.x = x\n",
    "        self.y = y\n",
    "        for i in range(self.max_iter):\n",
    "            self._update_step()\n",
    "            # print('loss: \\t{}'.format(self.loss()))\n",
    "            # print('score: \\t{}'.format(self.score()))\n",
    "            # print('w: \\t{}'.format(self.w))\n",
    "            # print('b: \\t{}'.format(self.b))\n",
    "\n",
    "    def _sigmoid(self, z):\n",
    "        return 1.0 / (1.0 + np.exp(-z))\n",
    "\n",
    "    def _f(self, x, w, b):\n",
    "        z = x.dot(w) + b\n",
    "        return self._sigmoid(z)\n",
    "\n",
    "    def predict_proba(self, x=None):\n",
    "        if x is None:\n",
    "            x = self.x\n",
    "        y_pred = self._f(x, self.w, self.b)\n",
    "        return y_pred\n",
    "\n",
    "    def predict(self, x=None):\n",
    "        if x is None:\n",
    "            x = self.x\n",
    "        y_pred_proba = self._f(x, self.w, self.b)\n",
    "        y_pred = np.array([0 if y_pred_proba[i] < 0.5 else 1 for i in range(len(y_pred_proba))])\n",
    "        return y_pred\n",
    "\n",
    "    def score(self, y_true=None, y_pred=None):\n",
    "        if y_true is None or y_pred is None:\n",
    "            y_true = self.y\n",
    "            y_pred = self.predict()\n",
    "        acc = np.mean([1 if y_true[i] == y_pred[i] else 0 for i in range(len(y_true))])\n",
    "        return acc\n",
    "\n",
    "    def loss(self, y_true=None, y_pred_proba=None):\n",
    "        if y_true is None or y_pred_proba is None:\n",
    "            y_true = self.y\n",
    "            y_pred_proba = self.predict_proba()\n",
    "        return np.mean(-1.0 * (y_true * np.log(y_pred_proba) + (1.0 - y_true) * np.log(1.0 - y_pred_proba)))\n",
    "\n",
    "    def _calc_gradient(self):\n",
    "        y_pred = self.predict()\n",
    "        d_w = (y_pred - self.y).dot(self.x) / len(self.y)\n",
    "        d_b = np.mean(y_pred - self.y)\n",
    "        return d_w, d_b\n",
    "\n",
    "    def _update_step(self):\n",
    "        d_w, d_b = self._calc_gradient()\n",
    "        self.w = self.w - self.lr * d_w\n",
    "        self.b = self.b - self.lr * d_b\n",
    "        return self.w, self.b"
   ]
  },
  {
   "cell_type": "code",
   "execution_count": 27,
   "id": "91cce576-fab7-4e1d-ae48-abc6c25adaaf",
   "metadata": {
    "jupyter": {
     "source_hidden": true
    },
    "tags": []
   },
   "outputs": [],
   "source": [
    "\n",
    "def generate_data(seed):\n",
    "    np.random.seed(seed)\n",
    "    data_size_1 = 300\n",
    "    x1_1 = np.random.normal(loc=5.0, scale=1.0, size=data_size_1)\n",
    "    x2_1 = np.random.normal(loc=4.0, scale=1.0, size=data_size_1)\n",
    "    y_1 = [0 for _ in range(data_size_1)]\n",
    "    data_size_2 = 400\n",
    "    x1_2 = np.random.normal(loc=10.0, scale=2.0, size=data_size_2)\n",
    "    x2_2 = np.random.normal(loc=8.0, scale=2.0, size=data_size_2)\n",
    "    y_2 = [1 for _ in range(data_size_2)]\n",
    "    x1 = np.concatenate((x1_1, x1_2), axis=0)\n",
    "    x2 = np.concatenate((x2_1, x2_2), axis=0)\n",
    "    x = np.hstack((x1.reshape(-1,1), x2.reshape(-1,1)))\n",
    "    y = np.concatenate((y_1, y_2), axis=0)\n",
    "    data_size_all = data_size_1+data_size_2\n",
    "    shuffled_index = np.random.permutation(data_size_all)\n",
    "    x = x[shuffled_index]\n",
    "    y = y[shuffled_index]\n",
    "    return x, y\n",
    "\n",
    "def train_test_split(x, y):\n",
    "    split_index = int(len(y)*0.7)\n",
    "    x_train = x[:split_index]\n",
    "    y_train = y[:split_index]\n",
    "    x_test = x[split_index:]\n",
    "    y_test = y[split_index:]\n",
    "    return x_train, y_train, x_test, y_test\n",
    "\n"
   ]
  },
  {
   "cell_type": "code",
   "execution_count": 44,
   "id": "9770050c-89eb-45a9-8454-88225a92dc1c",
   "metadata": {},
   "outputs": [
    {
     "name": "stdout",
     "output_type": "stream",
     "text": [
      "0.9620853080568721\n",
      "0.6320643606193965\n"
     ]
    }
   ],
   "source": [
    "import matplotlib.pyplot as plt  \n",
    "\n",
    "# data generation\n",
    "x, y = generate_data(seed=272)\n",
    "x_train, y_train, x_test, y_test = train_test_split(x, y)\n",
    "\n",
    "# visualize data\n",
    "# plt.scatter(x_train[:,0], x_train[:,1], c=y_train, marker='.')\n",
    "# plt.show()\n",
    "# plt.scatter(x_test[:,0], x_test[:,1], c=y_test, marker='.')\n",
    "# plt.show()\n",
    "\n",
    "# data normalization\n",
    "x_train = (x_train - np.min(x_train, axis=0)) / (np.max(x_train, axis=0) - np.min(x_train, axis=0))\n",
    "x_test = (x_test - np.min(x_test, axis=0)) / (np.max(x_test, axis=0) - np.min(x_test, axis=0))\n",
    "\n",
    "# Logistic regression classifier\n",
    "clf = LogisticRegression(learning_rate=0.1, max_iter=500, seed=272)\n",
    "clf.fit(x_train, y_train)\n",
    "\n",
    "# loss on test set\n",
    "y_test_pred = clf.predict(x_test)\n",
    "y_test_pred_proba = clf.predict_proba(x_test)\n",
    "print(clf.score(y_test, y_test_pred))\n",
    "print(clf.loss(y_test, y_test_pred_proba))\n",
    "# print(y_test_pred_proba)\n",
    "# print(y_test)"
   ]
  },
  {
   "cell_type": "code",
   "execution_count": 50,
   "id": "a159b677-bb01-4777-b8d5-44f4c8e9ccf5",
   "metadata": {
    "tags": []
   },
   "outputs": [
    {
     "name": "stdout",
     "output_type": "stream",
     "text": [
      "[0.47251822 0.11175349]\n",
      "(700, 2)\n"
     ]
    },
    {
     "data": {
      "text/plain": [
       "array([0, 1, 1, 1, 1])"
      ]
     },
     "execution_count": 50,
     "metadata": {},
     "output_type": "execute_result"
    }
   ],
   "source": [
    "print(clf.w)\n",
    "print(x.shape)"
   ]
  },
  {
   "cell_type": "code",
   "execution_count": 51,
   "id": "c2538f17-3bf4-4407-b14f-5938269f5c8e",
   "metadata": {},
   "outputs": [
    {
     "data": {
      "image/png": "[encoded data removed]",
      "text/plain": [
       "<Figure size 432x288 with 1 Axes>"
      ]
     },
     "metadata": {
      "needs_background": "light"
     },
     "output_type": "display_data"
    }
   ],
   "source": [
    "# plot the result\n",
    "split_boundary_func = lambda x: (-clf.b - clf.w[0] * x) / clf.w[1]\n",
    "xx = np.arange(0.1, .6, 0.1)\n",
    "plt.scatter(x_train[:,0], x_train[:,1], c=y_train, marker='.')\n",
    "plt.plot(xx, split_boundary_func(xx), c='red')\n",
    "plt.show()\n"
   ]
  }
 ],
 "metadata": {
  "kernelspec": {
   "display_name": "Python 3 (ipykernel)",
   "language": "python",
   "name": "python3"
  },
  "language_info": {
   "codemirror_mode": {
    "name": "ipython",
    "version": 3
   },
   "file_extension": ".py",
   "mimetype": "text/x-python",
   "name": "python",
   "nbconvert_exporter": "python",
   "pygments_lexer": "ipython3",
   "version": "3.9.7"
  }
 },
 "nbformat": 4,
 "nbformat_minor": 5
}
