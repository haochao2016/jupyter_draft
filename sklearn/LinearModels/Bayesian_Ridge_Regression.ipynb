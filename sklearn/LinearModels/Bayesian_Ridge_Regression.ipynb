{
 "cells": [
  {
   "cell_type": "code",
   "execution_count": 2,
   "id": "a8aeb544-c04f-4b44-961e-12f940b36f1f",
   "metadata": {},
   "outputs": [],
   "source": [
    "import numpy as np\n",
    "import matplotlib.pyplot as plt\n",
    "from scipy import stats\n",
    "from sklearn.linear_model import BayesianRidge, LinearRegression"
   ]
  },
  {
   "cell_type": "code",
   "execution_count": null,
   "id": "7ffaf282-45e5-45bb-af03-93631ea27f50",
   "metadata": {},
   "outputs": [],
   "source": []
  },
  {
   "cell_type": "code",
   "execution_count": 4,
   "id": "3fb25deb-789d-4871-a100-fb8d5fdeb63b",
   "metadata": {},
   "outputs": [
    {
     "data": {
      "text/plain": [
       "(100, 100)"
      ]
     },
     "execution_count": 4,
     "metadata": {},
     "output_type": "execute_result"
    }
   ],
   "source": [
    "# Generating simulated data with Gausssian weights\n",
    "np.random.seed(0)\n",
    "n_samples, n_features = 100, 100\n",
    "X = np.random.randn(n_samples, n_features) # create gaussian data\n",
    "X.shape"
   ]
  },
  {
   "cell_type": "code",
   "execution_count": 5,
   "id": "b19ce1de-87e4-4451-8e36-8706c2af5dd5",
   "metadata": {},
   "outputs": [
    {
     "data": {
      "text/plain": [
       "array([12, 16, 20, 33, 75, 28, 89, 19, 92, 42])"
      ]
     },
     "execution_count": 5,
     "metadata": {},
     "output_type": "execute_result"
    }
   ],
   "source": [
    "# Create weight with a precision lambda_ of 4.\n",
    "lambda_ = 4.0 \n",
    "w = np.zeros(n_features)\n",
    "# only keep 10 weight of interest\n",
    "\n",
    "relevant_features = np.random.randint(0, n_features, 10)\n",
    "for i in relevant_features:\n",
    "    w[i] = stats.norm.rvs(loc=0, scale=1.0 / np.sqrt(lambda_))\n",
    "\n",
    "\n"
   ]
  }
 ],
 "metadata": {
  "kernelspec": {
   "display_name": "Python 3 (ipykernel)",
   "language": "python",
   "name": "python3"
  },
  "language_info": {
   "codemirror_mode": {
    "name": "ipython",
    "version": 3
   },
   "file_extension": ".py",
   "mimetype": "text/x-python",
   "name": "python",
   "nbconvert_exporter": "python",
   "pygments_lexer": "ipython3",
   "version": "3.9.7"
  }
 },
 "nbformat": 4,
 "nbformat_minor": 5
}
